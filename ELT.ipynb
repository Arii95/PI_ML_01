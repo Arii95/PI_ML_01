{
 "cells": [
  {
   "cell_type": "code",
   "execution_count": null,
   "metadata": {},
   "outputs": [],
   "source": [
    "#Cargar librerias a utilizar \n",
    "import pandas as pd\n",
    "import numpy as np"
   ]
  },
  {
   "cell_type": "code",
   "execution_count": null,
   "metadata": {},
   "outputs": [],
   "source": [
    "#Carga de archivos \n",
    "archivo_net= pd.read_csv('MLOpsReviews/netflix_titles.csv')\n",
    "archivo_hul= pd.read_csv('MLOpsReviews/hulu_titles.csv')\n",
    "archivo_dis= pd.read_csv('MLOpsReviews/disney_plus_titles.csv')\n",
    "archivo_ama= pd.read_csv('MLOpsReviews/amazon_prime_titles.csv')"
   ]
  },
  {
   "cell_type": "code",
   "execution_count": null,
   "metadata": {},
   "outputs": [],
   "source": [
    "df1_p= pd.DataFrame(archivo_net)\n",
    "df2_p= pd.DataFrame(archivo_hul)\n",
    "df3_p= pd.DataFrame(archivo_dis)\n",
    "df4_p= pd.DataFrame(archivo_ama)"
   ]
  },
  {
   "cell_type": "code",
   "execution_count": null,
   "metadata": {},
   "outputs": [],
   "source": [
    "df1_p"
   ]
  },
  {
   "cell_type": "code",
   "execution_count": null,
   "metadata": {},
   "outputs": [],
   "source": [
    "archivo_ama.duplicated().sum()"
   ]
  },
  {
   "cell_type": "code",
   "execution_count": null,
   "metadata": {},
   "outputs": [],
   "source": [
    "#Checamos datos nulos de cada plataforma\n",
    "df4_p.isnull().sum().value_counts"
   ]
  },
  {
   "cell_type": "code",
   "execution_count": null,
   "metadata": {},
   "outputs": [],
   "source": [
    "#Nueva columna para plataforma en csv / reemplazar valores de DF de cada una de las plataformas\n",
    "df4_p['plataforma']= 'd'\n",
    "df4_p['id']= (df4_p['plataforma'] + df4_p['show_id'])\n",
    "first_column= df4_p.pop('id')\n",
    "df4_p.insert(0,'id', first_column)"
   ]
  },
  {
   "cell_type": "code",
   "execution_count": null,
   "metadata": {},
   "outputs": [],
   "source": [
    "#Corroborar base actualizada\n",
    "df4_p.head()"
   ]
  },
  {
   "cell_type": "code",
   "execution_count": null,
   "metadata": {},
   "outputs": [],
   "source": [
    "#Concatenación de 4 plataformas\n",
    "\n",
    "plataformas = pd.concat([df1_p, df2_p, df3_p, df4_p], join= 'inner')"
   ]
  },
  {
   "cell_type": "code",
   "execution_count": null,
   "metadata": {},
   "outputs": [],
   "source": [
    "plataformas.shape"
   ]
  },
  {
   "cell_type": "code",
   "execution_count": null,
   "metadata": {},
   "outputs": [],
   "source": [
    "#Checar valores nulos \n",
    "\n",
    "plataformas.isnull().sum()"
   ]
  },
  {
   "cell_type": "code",
   "execution_count": null,
   "metadata": {},
   "outputs": [],
   "source": [
    "#Reemplazar nulos por 'G', como “general for all audiences”\n",
    "plataformas['rating'].fillna('G', inplace=True )"
   ]
  },
  {
   "cell_type": "code",
   "execution_count": null,
   "metadata": {},
   "outputs": [],
   "source": [
    "plataformas.head()"
   ]
  },
  {
   "cell_type": "code",
   "execution_count": null,
   "metadata": {},
   "outputs": [],
   "source": [
    "plataformas['rating'].unique()"
   ]
  },
  {
   "cell_type": "code",
   "execution_count": null,
   "metadata": {},
   "outputs": [],
   "source": [
    "#Cambio de formato de fechas en el campo date_added\n",
    "\n",
    "plataformas['date_added']= pd.to_datetime(plataformas['date_added'])\n",
    "plataformas['date_added'] = plataformas['date_added'].dt.strftime('%Y/%m/%d')\n",
    "\n"
   ]
  },
  {
   "cell_type": "code",
   "execution_count": null,
   "metadata": {},
   "outputs": [],
   "source": [
    "#Cambio a minúsculas\n",
    "\n",
    "plataformas['description'] = plataformas['description'].astype(str)\n",
    "plataformas['listed_in'] = plataformas['listed_in'].apply(str.lower)\n"
   ]
  },
  {
   "cell_type": "code",
   "execution_count": null,
   "metadata": {},
   "outputs": [],
   "source": [
    "#Cambio de campo de duration : duration_int, duration_type\n",
    "\n",
    "plataformas['duration']=plataformas['duration'].astype(str)\n",
    "plataformas['duration_int']= plataformas['duration'].apply(lambda x:x.split()[0])\n",
    "plataformas['duration_type']=plataformas['duration'].apply(lambda x:str(x.split()[1:]))"
   ]
  },
  {
   "cell_type": "code",
   "execution_count": null,
   "metadata": {},
   "outputs": [],
   "source": [
    "#Eliminar la columna duration para evitar duplicados \n",
    "\n",
    "plataformas.drop(['duration'], axis=1, inplace=True)"
   ]
  },
  {
   "cell_type": "code",
   "execution_count": null,
   "metadata": {},
   "outputs": [],
   "source": [
    "plataformas['duration_type'] = plataformas['duration_type'].astype('str')"
   ]
  },
  {
   "attachments": {},
   "cell_type": "markdown",
   "metadata": {},
   "source": [
    "** Concatenación de archivos de ratings ** "
   ]
  },
  {
   "cell_type": "code",
   "execution_count": null,
   "metadata": {},
   "outputs": [],
   "source": [
    "#Carga de archivos de rating de usuarios csv \n",
    "\n",
    "d1= pd.read_csv('MLOpsReviews/ratings/1.csv')\n",
    "d2= pd.read_csv('MLOpsReviews/ratings/2.csv')\n",
    "d3= pd.read_csv('MLOpsReviews/ratings/3.csv')\n",
    "d4= pd.read_csv('MLOpsReviews/ratings/4.csv')\n",
    "d5= pd.read_csv('MLOpsReviews/ratings/5.csv')\n",
    "d6= pd.read_csv('MLOpsReviews/ratings/6.csv')\n",
    "d7= pd.read_csv('MLOpsReviews/ratings/7.csv')\n",
    "d8= pd.read_csv('MLOpsReviews/ratings/8.csv')"
   ]
  },
  {
   "cell_type": "code",
   "execution_count": null,
   "metadata": {},
   "outputs": [],
   "source": [
    "#Conversión a DF\n",
    "df1=pd.DataFrame(d1)\n",
    "df2=pd.DataFrame(d2)\n",
    "df3=pd.DataFrame(d3)\n",
    "df4=pd.DataFrame(d4)\n",
    "df5=pd.DataFrame(d5)\n",
    "df6=pd.DataFrame(d6)\n",
    "df7=pd.DataFrame(d7)\n",
    "df8=pd.DataFrame(d8)"
   ]
  },
  {
   "cell_type": "code",
   "execution_count": null,
   "metadata": {},
   "outputs": [],
   "source": [
    "#Comprobación de usuarios no repetidos a lo largo de las bases de datos\n",
    "\n",
    "print(df1['userId'].equals(df2['userId']))"
   ]
  },
  {
   "cell_type": "code",
   "execution_count": null,
   "metadata": {},
   "outputs": [],
   "source": [
    "print((df1['userId'].isin(df2['userId']).values(True)))"
   ]
  },
  {
   "cell_type": "code",
   "execution_count": null,
   "metadata": {},
   "outputs": [],
   "source": [
    "#Concatenación de dataframes en las filas \n",
    "\n",
    "rating= pd.concat([df1,df2,df3,df4,df5,df6,df7,df8])"
   ]
  },
  {
   "cell_type": "code",
   "execution_count": null,
   "metadata": {},
   "outputs": [],
   "source": [
    "#comprobación de numero de filas \n",
    "rating.shape\n",
    "rating.head()"
   ]
  },
  {
   "cell_type": "code",
   "execution_count": null,
   "metadata": {},
   "outputs": [],
   "source": [
    "rating.info()"
   ]
  },
  {
   "cell_type": "code",
   "execution_count": null,
   "metadata": {},
   "outputs": [],
   "source": [
    "#Comprobación de que no tuvieran datos nulos \n",
    "rating.isnull().sum().value_counts"
   ]
  }
 ],
 "metadata": {
  "kernelspec": {
   "display_name": "base",
   "language": "python",
   "name": "python3"
  },
  "language_info": {
   "codemirror_mode": {
    "name": "ipython",
    "version": 3
   },
   "file_extension": ".py",
   "mimetype": "text/x-python",
   "name": "python",
   "nbconvert_exporter": "python",
   "pygments_lexer": "ipython3",
   "version": "3.9.13"
  },
  "orig_nbformat": 4,
  "vscode": {
   "interpreter": {
    "hash": "424a58b1ff7d3ef1d0e55f78f935fefdf72d425a22e3df8ad97cbfccebd9b7e8"
   }
  }
 },
 "nbformat": 4,
 "nbformat_minor": 2
}
